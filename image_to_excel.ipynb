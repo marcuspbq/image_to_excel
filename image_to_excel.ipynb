{
 "cells": [
  {
   "cell_type": "markdown",
   "id": "6f20955d",
   "metadata": {},
   "source": [
    "# Projeto Leitor de imagens como fatura de cartão e exporntando para excel"
   ]
  },
  {
   "cell_type": "code",
   "execution_count": 2,
   "id": "3f08719b",
   "metadata": {},
   "outputs": [],
   "source": [
    "# Importando bibliotecas\n",
    "import cv2\n",
    "import pytesseract"
   ]
  },
  {
   "cell_type": "code",
   "execution_count": 3,
   "id": "67f82f30",
   "metadata": {},
   "outputs": [],
   "source": [
    "# apontar onde está o executável do pytesseract\n",
    "pytesseract.pytesseract.tesseract_cmd = \"C:\\Program Files\\Tesseract-OCR\\Tesseract.exe\""
   ]
  },
  {
   "cell_type": "code",
   "execution_count": 4,
   "id": "96abeff2",
   "metadata": {},
   "outputs": [],
   "source": [
    "# lendo a imagem com open cv\n",
    "img= cv2.imread(\"1.jpeg\")"
   ]
  },
  {
   "cell_type": "code",
   "execution_count": 5,
   "id": "47f4a509",
   "metadata": {},
   "outputs": [],
   "source": [
    "# criando uma lista com o texto extraído da imagem\n",
    "texto = pytesseract.image_to_string(img)"
   ]
  },
  {
   "cell_type": "code",
   "execution_count": 7,
   "id": "b74fa91a",
   "metadata": {},
   "outputs": [
    {
     "data": {
      "text/plain": [
       "'NO Sal O\\n\\n< detalhes da fatura\\n\\njaneiro fevereiro margo\\n\\n< >\\npaga fechada aberta\\n\\n| 27 dejaneiro\\nUber *uber *trip R$ 8,99\\n25 de janeiro\\nUber *uber *trip RS 8,92\\nUber *uber *trip R$ 9,91\\nPicpay*pagpicpay R$ 62,39\\n24 de janeiro\\nDrogaria Venancio RS 35,48\\n23 de janeiro\\nUber *trip R$ 49,91\\nPaladare RS 68,28\\n22 de janeiro\\nBar do Adao Cj R$ 125,73\\n20 de janeiro\\nUber *trip Help.uber.c R$ 9,39\\n\\nWl © <\\n'"
      ]
     },
     "metadata": {},
     "output_type": "display_data"
    }
   ],
   "source": [
    "# Imprimindo texto\n",
    "display(texto)"
   ]
  },
  {
   "cell_type": "code",
   "execution_count": 2,
   "id": "b0f9d9aa",
   "metadata": {},
   "outputs": [
    {
     "name": "stdout",
     "output_type": "stream",
     "text": [
      "Collecting opencv-pythonNote: you may need to restart the kernel to use updated packages.\n",
      "  Using cached opencv_python-4.5.5.62-cp36-abi3-win_amd64.whl (35.4 MB)\n",
      "Requirement already satisfied: numpy>=1.14.5 in c:\\users\\marcu\\anaconda3\\lib\\site-packages (from opencv-python) (1.20.3)\n",
      "Installing collected packages: opencv-python\n",
      "Successfully installed opencv-python-4.5.5.62\n",
      "\n"
     ]
    }
   ],
   "source": [
    "# pip install opencv-python"
   ]
  },
  {
   "cell_type": "code",
   "execution_count": 3,
   "id": "19b4d921",
   "metadata": {},
   "outputs": [
    {
     "name": "stdout",
     "output_type": "stream",
     "text": [
      "Requirement already satisfied: pytesseract in c:\\users\\marcu\\anaconda3\\lib\\site-packages (0.3.8)\n",
      "Requirement already satisfied: Pillow in c:\\users\\marcu\\anaconda3\\lib\\site-packages (from pytesseract) (8.4.0)\n",
      "Note: you may need to restart the kernel to use updated packages.\n"
     ]
    }
   ],
   "source": [
    "pip install pytesseract"
   ]
  },
  {
   "cell_type": "code",
   "execution_count": null,
   "id": "53a918cb",
   "metadata": {},
   "outputs": [],
   "source": []
  }
 ],
 "metadata": {
  "kernelspec": {
   "display_name": "Python 3 (ipykernel)",
   "language": "python",
   "name": "python3"
  },
  "language_info": {
   "codemirror_mode": {
    "name": "ipython",
    "version": 3
   },
   "file_extension": ".py",
   "mimetype": "text/x-python",
   "name": "python",
   "nbconvert_exporter": "python",
   "pygments_lexer": "ipython3",
   "version": "3.9.7"
  }
 },
 "nbformat": 4,
 "nbformat_minor": 5
}
